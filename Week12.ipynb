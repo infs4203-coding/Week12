{
 "cells": [
  {
   "cell_type": "markdown",
   "id": "d2bf0c48",
   "metadata": {},
   "source": [
    "The main purpose of this document is to introduce text mining with TF-IDF, implemented by [scikit-learn](https://scikit-learn.org/stable/). This document encompasses two scenarios. In the first case, we will simply calculate the TF-IDF vectors and cosine similarities in the tutorial questions. Then in the second case, we will simulate the process of evaluating assignment similarities on term frequency utilizing the TF-IDF approach."
   ]
  },
  {
   "cell_type": "markdown",
   "id": "6037129c",
   "metadata": {},
   "source": [
    "# 1. An example from tutorial sheet"
   ]
  },
  {
   "cell_type": "markdown",
   "id": "f39c592d",
   "metadata": {},
   "source": [
    "Given the following documents,\n",
    "\n",
    "**DOCUMENT 1** This dog eats dog food.\n",
    "\n",
    "**DOCUMENT 2** That cat eats fish\n",
    "\n",
    "(Note: In the above documents, please consider ‘This’ and ‘That’ as stop words. )\n",
    "\n",
    "1. what are the TF-IDF vectors of documents after being normalized to unit length? \n",
    "\n",
    "2. given a query Q = {dog eats fish}, what is the cosine distance between Q and Document 1?"
   ]
  },
  {
   "cell_type": "markdown",
   "id": "10082b9b",
   "metadata": {},
   "source": [
    "## 1.1 Data preparation"
   ]
  },
  {
   "cell_type": "markdown",
   "id": "1493cd11",
   "metadata": {},
   "source": [
    "We first import the packages that will be used in this document.\n",
    "\n",
    "1. [Pandas](https://pandas.pydata.org/): Pandas is an open-source Python library widely used for data manipulation, analysis, and cleaning tasks. The central data structure in Pandas is the [DataFrame](https://pandas.pydata.org/docs/reference/api/pandas.DataFrame.html) which provides methods to facilitate the preliminary examination of essential properties, statistical summaries, and a select number of rows for a cursory exploration of the data.\n",
    "\n",
    "2. [Numpy](https://numpy.org/): Numpy is a powerful Python library for numerical and array-based computing. It provides support for large, multi-dimensional arrays and matrices, along with a wide range of mathematical functions to operate on these arrays efficiently. \n",
    "\n",
    "3. [sklearn.feature_extraction.text.TfidfVectorizer](https://scikit-learn.org/stable/modules/generated/sklearn.feature_extraction.text.TfidfVectorizer.html): TfidfVectorizer converts a collection of raw documents to a matrix of TF-IDF features, provided by scikit-learn."
   ]
  },
  {
   "cell_type": "code",
   "execution_count": 1,
   "id": "8d53a950",
   "metadata": {},
   "outputs": [],
   "source": [
    "import pandas as pd\n",
    "import numpy as np\n",
    "from sklearn.feature_extraction.text import TfidfVectorizer"
   ]
  },
  {
   "cell_type": "markdown",
   "id": "fc597bfe",
   "metadata": {},
   "source": [
    "Prepare the documents and the query of the question."
   ]
  },
  {
   "cell_type": "code",
   "execution_count": 2,
   "id": "5f7db211",
   "metadata": {},
   "outputs": [],
   "source": [
    "documents = [\n",
    "    'This dog eats dog food.',\n",
    "    'That cat eats fish.',\n",
    "]"
   ]
  },
  {
   "cell_type": "code",
   "execution_count": 3,
   "id": "aebef8e3",
   "metadata": {},
   "outputs": [],
   "source": [
    "Q = ['dog eats fish']"
   ]
  },
  {
   "cell_type": "markdown",
   "id": "8406ae73",
   "metadata": {},
   "source": [
    "## 1.2 TF-IDF vectors of the documents after normalization"
   ]
  },
  {
   "cell_type": "markdown",
   "id": "a7643a99",
   "metadata": {},
   "source": [
    "We apply [TfidfVectorizer](https://scikit-learn.org/stable/modules/generated/sklearn.feature_extraction.text.TfidfVectorizer.html) provided by scikit-learn to calculate the TF-IDF vectors.\n",
    "\n",
    "We set the parameter `stop_words` to a list assumed to contain stop words, all of which will be removed from the resulting tokens, which should be 'this' and 'that' as in the question.\n",
    "\n",
    "The parameter `smooth_idf` is set to `True` by default, where the constant \"1\" is added to the numerator and denominator of the IDF as if an extra document was seen containing every term in the collection exactly once, which prevents zero divisions. We haven't included this in our lecture so for this scenario, we set it to `False`."
   ]
  },
  {
   "cell_type": "code",
   "execution_count": 4,
   "id": "3d0d2625",
   "metadata": {},
   "outputs": [],
   "source": [
    "tfidf_vectorizer_tut = TfidfVectorizer(stop_words=['this', 'that'], smooth_idf=False)"
   ]
  },
  {
   "cell_type": "markdown",
   "id": "60cc1d8d",
   "metadata": {},
   "source": [
    "We use [TfidfVectorizer.fit_transform()](https://scikit-learn.org/stable/modules/generated/sklearn.feature_extraction.text.TfidfVectorizer.html#sklearn.feature_extraction.text.TfidfVectorizer.fit_transform) to let the model earn vocabulary and IDF, and it returns the document-term matrix."
   ]
  },
  {
   "cell_type": "code",
   "execution_count": 5,
   "id": "e515487d",
   "metadata": {},
   "outputs": [],
   "source": [
    "tfidf_vector_tut = tfidf_vectorizer_tut.fit_transform(documents)"
   ]
  },
  {
   "cell_type": "markdown",
   "id": "065e7af5",
   "metadata": {},
   "source": [
    "We can check the word list by [TfidfVectorizer.get_feature_names_out()](https://scikit-learn.org/stable/modules/generated/sklearn.feature_extraction.text.TfidfVectorizer.html#sklearn.feature_extraction.text.TfidfVectorizer.get_feature_names_out)."
   ]
  },
  {
   "cell_type": "code",
   "execution_count": 6,
   "id": "58305861",
   "metadata": {},
   "outputs": [
    {
     "data": {
      "text/plain": [
       "array(['cat', 'dog', 'eats', 'fish', 'food'], dtype=object)"
      ]
     },
     "execution_count": 6,
     "metadata": {},
     "output_type": "execute_result"
    }
   ],
   "source": [
    "tfidf_vectorizer_tut.get_feature_names_out()"
   ]
  },
  {
   "cell_type": "markdown",
   "id": "9610e1a0",
   "metadata": {},
   "source": [
    "Then let's check the IDF vectors by the property [TfidfVectorizer.idf_](https://scikit-learn.org/stable/modules/generated/sklearn.feature_extraction.text.TfidfVectorizer.html#sklearn.feature_extraction.text.TfidfVectorizer.idf_).\n",
    "\n",
    "It is obvious that the IDF vectors are different from the values we calculate by the formula from the lecture. It is because scikit-learn implements it in a different formula:\n",
    "\n",
    "$$\n",
    "IDF = \\ln\\frac{\\#documents}{\\#documents\\_containing\\_the\\_word} + 1\n",
    "$$\n",
    "\n",
    "Note: it is an explanation of the coding, please use the formula introduced in the lecture for tutorials and exams."
   ]
  },
  {
   "cell_type": "code",
   "execution_count": 7,
   "id": "4cfa5f60",
   "metadata": {},
   "outputs": [
    {
     "data": {
      "text/plain": [
       "array([1.69314718, 1.69314718, 1.        , 1.69314718, 1.69314718])"
      ]
     },
     "execution_count": 7,
     "metadata": {},
     "output_type": "execute_result"
    }
   ],
   "source": [
    "tfidf_vectorizer_tut.idf_"
   ]
  },
  {
   "cell_type": "markdown",
   "id": "14ef4ac3",
   "metadata": {},
   "source": [
    "We make the TF-IDF vectors with the corresponding word list to a [pd.DataFrame](https://pandas.pydata.org/docs/reference/api/pandas.DataFrame.html) for display and further calculation."
   ]
  },
  {
   "cell_type": "code",
   "execution_count": 8,
   "id": "eb4e7dc8",
   "metadata": {},
   "outputs": [],
   "source": [
    "tfidf_df_tut = pd.DataFrame(tfidf_vector_tut.toarray(),columns=tfidf_vectorizer_tut.get_feature_names_out())"
   ]
  },
  {
   "cell_type": "markdown",
   "id": "088a7c58",
   "metadata": {},
   "source": [
    "And then round it to 3 decimals."
   ]
  },
  {
   "cell_type": "code",
   "execution_count": 9,
   "id": "97d0a922",
   "metadata": {},
   "outputs": [
    {
     "data": {
      "text/html": [
       "<div>\n",
       "<style scoped>\n",
       "    .dataframe tbody tr th:only-of-type {\n",
       "        vertical-align: middle;\n",
       "    }\n",
       "\n",
       "    .dataframe tbody tr th {\n",
       "        vertical-align: top;\n",
       "    }\n",
       "\n",
       "    .dataframe thead th {\n",
       "        text-align: right;\n",
       "    }\n",
       "</style>\n",
       "<table border=\"1\" class=\"dataframe\">\n",
       "  <thead>\n",
       "    <tr style=\"text-align: right;\">\n",
       "      <th></th>\n",
       "      <th>cat</th>\n",
       "      <th>dog</th>\n",
       "      <th>eats</th>\n",
       "      <th>fish</th>\n",
       "      <th>food</th>\n",
       "    </tr>\n",
       "  </thead>\n",
       "  <tbody>\n",
       "    <tr>\n",
       "      <th>0</th>\n",
       "      <td>0.000</td>\n",
       "      <td>0.865</td>\n",
       "      <td>0.255</td>\n",
       "      <td>0.000</td>\n",
       "      <td>0.432</td>\n",
       "    </tr>\n",
       "    <tr>\n",
       "      <th>1</th>\n",
       "      <td>0.652</td>\n",
       "      <td>0.000</td>\n",
       "      <td>0.385</td>\n",
       "      <td>0.652</td>\n",
       "      <td>0.000</td>\n",
       "    </tr>\n",
       "  </tbody>\n",
       "</table>\n",
       "</div>"
      ],
      "text/plain": [
       "     cat    dog   eats   fish   food\n",
       "0  0.000  0.865  0.255  0.000  0.432\n",
       "1  0.652  0.000  0.385  0.652  0.000"
      ]
     },
     "execution_count": 9,
     "metadata": {},
     "output_type": "execute_result"
    }
   ],
   "source": [
    "tfidf_df_tut.round(decimals=3)"
   ]
  },
  {
   "cell_type": "markdown",
   "id": "1fa16f5f",
   "metadata": {},
   "source": [
    "## 1.3 Cosine similarity between Q and Document 1"
   ]
  },
  {
   "cell_type": "markdown",
   "id": "d1ca893f",
   "metadata": {},
   "source": [
    "Construct the TF-IDF vector of query Q by [TfidfVectorizer.transform()](https://scikit-learn.org/stable/modules/generated/sklearn.feature_extraction.text.TfidfVectorizer.html#sklearn.feature_extraction.text.TfidfVectorizer.transform)."
   ]
  },
  {
   "cell_type": "code",
   "execution_count": 10,
   "id": "88329808",
   "metadata": {},
   "outputs": [],
   "source": [
    "Q_vector = tfidf_vectorizer_tut.transform(Q)"
   ]
  },
  {
   "cell_type": "markdown",
   "id": "e74d6456",
   "metadata": {},
   "source": [
    "Since the vectors have been normalized to unit length, the cosine similarity would be the inner product of two vectors. We implement it by [np.dot()](https://numpy.org/doc/stable/reference/generated/numpy.dot.html)."
   ]
  },
  {
   "cell_type": "code",
   "execution_count": 11,
   "id": "433265f1",
   "metadata": {},
   "outputs": [],
   "source": [
    "cosine_similarity_tut = np.dot(Q_vector.toarray()[0], tfidf_df_tut.iloc[0])"
   ]
  },
  {
   "cell_type": "code",
   "execution_count": 12,
   "id": "e05994db",
   "metadata": {},
   "outputs": [
    {
     "data": {
      "text/plain": [
       "0.6626683974485237"
      ]
     },
     "execution_count": 12,
     "metadata": {},
     "output_type": "execute_result"
    }
   ],
   "source": [
    "cosine_similarity_tut"
   ]
  },
  {
   "cell_type": "markdown",
   "id": "50e204b2",
   "metadata": {},
   "source": [
    "# 2. Checking the frequent word similarity by TF-IDF"
   ]
  },
  {
   "cell_type": "markdown",
   "id": "946743d4",
   "metadata": {},
   "source": [
    "In this scenario, we simulate 3 assignments with 2 having high frequent word similarity. The contents of the three text files are actually the project specification documents for phase 1 and phase 2 with another generated by AI only with paraphrasing."
   ]
  },
  {
   "cell_type": "markdown",
   "id": "6bfba730",
   "metadata": {},
   "source": [
    "## 2.1 Data preparation"
   ]
  },
  {
   "cell_type": "markdown",
   "id": "0ec15b8a",
   "metadata": {},
   "source": [
    "We import some additional packages for this case.\n",
    "\n",
    "1. [pathlib.Path](https://docs.python.org/3/library/pathlib.html): This module offers classes representing filesystem paths with semantics appropriate for different operating systems.\n",
    "\n",
    "2. [glob](https://docs.python.org/3/library/glob.html): The glob module finds all the pathnames matching a specified pattern according to the rules used by the Unix shell, although results are returned in arbitrary order."
   ]
  },
  {
   "cell_type": "code",
   "execution_count": 13,
   "id": "4e557ac1",
   "metadata": {},
   "outputs": [],
   "source": [
    "from pathlib import Path  \n",
    "import glob"
   ]
  },
  {
   "cell_type": "markdown",
   "id": "7e40e384",
   "metadata": {},
   "source": [
    "We use `glob.glob()` to get a list of path names that match pathname, which must be a string containing a path specification."
   ]
  },
  {
   "cell_type": "code",
   "execution_count": 14,
   "id": "d7a18765",
   "metadata": {},
   "outputs": [],
   "source": [
    "text_files = glob.glob('./*.txt')"
   ]
  },
  {
   "cell_type": "markdown",
   "id": "8fab13b9",
   "metadata": {},
   "source": [
    "Check the qualified path names."
   ]
  },
  {
   "cell_type": "code",
   "execution_count": 15,
   "id": "8381f9b0",
   "metadata": {},
   "outputs": [
    {
     "data": {
      "text/plain": [
       "['.\\\\INFS42037203ProjectPhase1.txt',\n",
       " '.\\\\INFS42037203ProjectPhase1_chatgpt.txt',\n",
       " '.\\\\INFS42037203ProjectPhase2.txt']"
      ]
     },
     "execution_count": 15,
     "metadata": {},
     "output_type": "execute_result"
    }
   ],
   "source": [
    "text_files"
   ]
  },
  {
   "cell_type": "markdown",
   "id": "1452f428",
   "metadata": {},
   "source": [
    "We can get the final path component, without its suffix by `Path.stem`."
   ]
  },
  {
   "cell_type": "code",
   "execution_count": 16,
   "id": "df1c7be9",
   "metadata": {},
   "outputs": [],
   "source": [
    "text_titles = [Path(text).stem for text in text_files]"
   ]
  },
  {
   "cell_type": "markdown",
   "id": "b1d7ff5f",
   "metadata": {},
   "source": [
    "Check the titles (file names without extensions)."
   ]
  },
  {
   "cell_type": "code",
   "execution_count": 17,
   "id": "70321a06",
   "metadata": {},
   "outputs": [
    {
     "data": {
      "text/plain": [
       "['INFS42037203ProjectPhase1',\n",
       " 'INFS42037203ProjectPhase1_chatgpt',\n",
       " 'INFS42037203ProjectPhase2']"
      ]
     },
     "execution_count": 17,
     "metadata": {},
     "output_type": "execute_result"
    }
   ],
   "source": [
    "text_titles"
   ]
  },
  {
   "cell_type": "markdown",
   "id": "ddf754fd",
   "metadata": {},
   "source": [
    "## 2.2 TF-IDF vectors after normalization"
   ]
  },
  {
   "cell_type": "markdown",
   "id": "28d95edc",
   "metadata": {},
   "source": [
    "Similar to scenario 1, we apply [TfidfVectorizer](https://scikit-learn.org/stable/modules/generated/sklearn.feature_extraction.text.TfidfVectorizer.html) provided by scikit-learn to calculate the TF-IDF vectors while setting the parameter `stop_words` to `english` to get a predefined list."
   ]
  },
  {
   "cell_type": "code",
   "execution_count": 18,
   "id": "fe795674",
   "metadata": {},
   "outputs": [],
   "source": [
    "tfidf_vectorizer = TfidfVectorizer(input='filename', stop_words='english')"
   ]
  },
  {
   "cell_type": "markdown",
   "id": "281b8141",
   "metadata": {},
   "source": [
    "### 2.2.1 Two assignments with low similarity"
   ]
  },
  {
   "cell_type": "markdown",
   "id": "90f5af6d",
   "metadata": {},
   "source": [
    "Similar to scenario 1, conduct TF-IDF vectors by [TfidfVectorizer.fit_transform()](https://scikit-learn.org/stable/modules/generated/sklearn.feature_extraction.text.TfidfVectorizer.html#sklearn.feature_extraction.text.TfidfVectorizer.fit_transform)"
   ]
  },
  {
   "cell_type": "code",
   "execution_count": 19,
   "id": "6560b912",
   "metadata": {},
   "outputs": [],
   "source": [
    "tfidf_vector_diff = tfidf_vectorizer.fit_transform([text_files[0],text_files[2]])"
   ]
  },
  {
   "cell_type": "code",
   "execution_count": 20,
   "id": "54372b2b",
   "metadata": {},
   "outputs": [],
   "source": [
    "tfidf_df_diff = pd.DataFrame(tfidf_vector_diff.toarray(), index=[text_titles[0], text_titles[2]], columns=tfidf_vectorizer.get_feature_names_out())"
   ]
  },
  {
   "cell_type": "code",
   "execution_count": 21,
   "id": "d76e2d7e",
   "metadata": {},
   "outputs": [
    {
     "data": {
      "text/html": [
       "<div>\n",
       "<style scoped>\n",
       "    .dataframe tbody tr th:only-of-type {\n",
       "        vertical-align: middle;\n",
       "    }\n",
       "\n",
       "    .dataframe tbody tr th {\n",
       "        vertical-align: top;\n",
       "    }\n",
       "\n",
       "    .dataframe thead th {\n",
       "        text-align: right;\n",
       "    }\n",
       "</style>\n",
       "<table border=\"1\" class=\"dataframe\">\n",
       "  <thead>\n",
       "    <tr style=\"text-align: right;\">\n",
       "      <th></th>\n",
       "      <th>00</th>\n",
       "      <th>01</th>\n",
       "      <th>10</th>\n",
       "      <th>100</th>\n",
       "      <th>100mb</th>\n",
       "      <th>11</th>\n",
       "      <th>12</th>\n",
       "      <th>128</th>\n",
       "      <th>13</th>\n",
       "      <th>15</th>\n",
       "      <th>...</th>\n",
       "      <th>want</th>\n",
       "      <th>way</th>\n",
       "      <th>web</th>\n",
       "      <th>week</th>\n",
       "      <th>work</th>\n",
       "      <th>works</th>\n",
       "      <th>world</th>\n",
       "      <th>written</th>\n",
       "      <th>www</th>\n",
       "      <th>zip</th>\n",
       "    </tr>\n",
       "  </thead>\n",
       "  <tbody>\n",
       "    <tr>\n",
       "      <th>INFS42037203ProjectPhase1</th>\n",
       "      <td>0.026708</td>\n",
       "      <td>0.000000</td>\n",
       "      <td>0.035610</td>\n",
       "      <td>0.026708</td>\n",
       "      <td>0.000000</td>\n",
       "      <td>0.000000</td>\n",
       "      <td>0.025024</td>\n",
       "      <td>0.000000</td>\n",
       "      <td>0.000000</td>\n",
       "      <td>0.062561</td>\n",
       "      <td>...</td>\n",
       "      <td>0.012512</td>\n",
       "      <td>0.017805</td>\n",
       "      <td>0.025024</td>\n",
       "      <td>0.035610</td>\n",
       "      <td>0.025024</td>\n",
       "      <td>0.012512</td>\n",
       "      <td>0.037537</td>\n",
       "      <td>0.025024</td>\n",
       "      <td>0.062561</td>\n",
       "      <td>0.000000</td>\n",
       "    </tr>\n",
       "    <tr>\n",
       "      <th>INFS42037203ProjectPhase2</th>\n",
       "      <td>0.010994</td>\n",
       "      <td>0.015452</td>\n",
       "      <td>0.021988</td>\n",
       "      <td>0.021988</td>\n",
       "      <td>0.030903</td>\n",
       "      <td>0.046355</td>\n",
       "      <td>0.000000</td>\n",
       "      <td>0.015452</td>\n",
       "      <td>0.015452</td>\n",
       "      <td>0.000000</td>\n",
       "      <td>...</td>\n",
       "      <td>0.000000</td>\n",
       "      <td>0.010994</td>\n",
       "      <td>0.000000</td>\n",
       "      <td>0.010994</td>\n",
       "      <td>0.000000</td>\n",
       "      <td>0.000000</td>\n",
       "      <td>0.000000</td>\n",
       "      <td>0.000000</td>\n",
       "      <td>0.000000</td>\n",
       "      <td>0.123613</td>\n",
       "    </tr>\n",
       "  </tbody>\n",
       "</table>\n",
       "<p>2 rows × 648 columns</p>\n",
       "</div>"
      ],
      "text/plain": [
       "                                 00        01        10       100     100mb  \\\n",
       "INFS42037203ProjectPhase1  0.026708  0.000000  0.035610  0.026708  0.000000   \n",
       "INFS42037203ProjectPhase2  0.010994  0.015452  0.021988  0.021988  0.030903   \n",
       "\n",
       "                                 11        12       128        13        15  \\\n",
       "INFS42037203ProjectPhase1  0.000000  0.025024  0.000000  0.000000  0.062561   \n",
       "INFS42037203ProjectPhase2  0.046355  0.000000  0.015452  0.015452  0.000000   \n",
       "\n",
       "                           ...      want       way       web      week  \\\n",
       "INFS42037203ProjectPhase1  ...  0.012512  0.017805  0.025024  0.035610   \n",
       "INFS42037203ProjectPhase2  ...  0.000000  0.010994  0.000000  0.010994   \n",
       "\n",
       "                               work     works     world   written       www  \\\n",
       "INFS42037203ProjectPhase1  0.025024  0.012512  0.037537  0.025024  0.062561   \n",
       "INFS42037203ProjectPhase2  0.000000  0.000000  0.000000  0.000000  0.000000   \n",
       "\n",
       "                                zip  \n",
       "INFS42037203ProjectPhase1  0.000000  \n",
       "INFS42037203ProjectPhase2  0.123613  \n",
       "\n",
       "[2 rows x 648 columns]"
      ]
     },
     "execution_count": 21,
     "metadata": {},
     "output_type": "execute_result"
    }
   ],
   "source": [
    "tfidf_df_diff"
   ]
  },
  {
   "cell_type": "markdown",
   "id": "0112c521",
   "metadata": {},
   "source": [
    "Calculate the cosine similarity of these two files."
   ]
  },
  {
   "cell_type": "code",
   "execution_count": 22,
   "id": "fc0a64ff",
   "metadata": {},
   "outputs": [],
   "source": [
    "cosine_similarity_diff = np.dot(tfidf_df_diff.iloc[0],tfidf_df_diff.iloc[1])"
   ]
  },
  {
   "cell_type": "code",
   "execution_count": 23,
   "id": "76008f98",
   "metadata": {},
   "outputs": [
    {
     "data": {
      "text/plain": [
       "0.36272088568181"
      ]
     },
     "execution_count": 23,
     "metadata": {},
     "output_type": "execute_result"
    }
   ],
   "source": [
    "cosine_similarity_diff"
   ]
  },
  {
   "cell_type": "markdown",
   "id": "f372496e",
   "metadata": {},
   "source": [
    "As the similarity is relatively low, there is no need to check the details."
   ]
  },
  {
   "cell_type": "markdown",
   "id": "3d0ae9cc",
   "metadata": {},
   "source": [
    "### 2.2.2 Two assignments with high similarity"
   ]
  },
  {
   "cell_type": "markdown",
   "id": "6fd09358",
   "metadata": {},
   "source": [
    "Similar to scenario 1, conduct TF-IDF vectors by [TfidfVectorizer.fit_transform()](https://scikit-learn.org/stable/modules/generated/sklearn.feature_extraction.text.TfidfVectorizer.html#sklearn.feature_extraction.text.TfidfVectorizer.fit_transform)"
   ]
  },
  {
   "cell_type": "code",
   "execution_count": 24,
   "id": "52b0c874",
   "metadata": {},
   "outputs": [],
   "source": [
    "tfidf_vector_sim = tfidf_vectorizer.fit_transform(text_files[:-1])"
   ]
  },
  {
   "cell_type": "code",
   "execution_count": 25,
   "id": "ea2232ca",
   "metadata": {},
   "outputs": [],
   "source": [
    "tfidf_df_sim = pd.DataFrame(tfidf_vector_sim.toarray(), index=text_titles[:-1], columns=tfidf_vectorizer.get_feature_names_out())"
   ]
  },
  {
   "cell_type": "code",
   "execution_count": 26,
   "id": "05baeb65",
   "metadata": {},
   "outputs": [
    {
     "data": {
      "text/html": [
       "<div>\n",
       "<style scoped>\n",
       "    .dataframe tbody tr th:only-of-type {\n",
       "        vertical-align: middle;\n",
       "    }\n",
       "\n",
       "    .dataframe tbody tr th {\n",
       "        vertical-align: top;\n",
       "    }\n",
       "\n",
       "    .dataframe thead th {\n",
       "        text-align: right;\n",
       "    }\n",
       "</style>\n",
       "<table border=\"1\" class=\"dataframe\">\n",
       "  <thead>\n",
       "    <tr style=\"text-align: right;\">\n",
       "      <th></th>\n",
       "      <th>00</th>\n",
       "      <th>10</th>\n",
       "      <th>100</th>\n",
       "      <th>12</th>\n",
       "      <th>15</th>\n",
       "      <th>15th</th>\n",
       "      <th>16</th>\n",
       "      <th>1st</th>\n",
       "      <th>20</th>\n",
       "      <th>2023</th>\n",
       "      <th>...</th>\n",
       "      <th>voting</th>\n",
       "      <th>want</th>\n",
       "      <th>way</th>\n",
       "      <th>web</th>\n",
       "      <th>week</th>\n",
       "      <th>work</th>\n",
       "      <th>works</th>\n",
       "      <th>world</th>\n",
       "      <th>written</th>\n",
       "      <th>www</th>\n",
       "    </tr>\n",
       "  </thead>\n",
       "  <tbody>\n",
       "    <tr>\n",
       "      <th>INFS42037203ProjectPhase1</th>\n",
       "      <td>0.027692</td>\n",
       "      <td>0.051893</td>\n",
       "      <td>0.03892</td>\n",
       "      <td>0.025946</td>\n",
       "      <td>0.046153</td>\n",
       "      <td>0.018461</td>\n",
       "      <td>0.027692</td>\n",
       "      <td>0.012973</td>\n",
       "      <td>0.046153</td>\n",
       "      <td>0.046153</td>\n",
       "      <td>...</td>\n",
       "      <td>0.012973</td>\n",
       "      <td>0.012973</td>\n",
       "      <td>0.025946</td>\n",
       "      <td>0.025946</td>\n",
       "      <td>0.036922</td>\n",
       "      <td>0.025946</td>\n",
       "      <td>0.012973</td>\n",
       "      <td>0.027692</td>\n",
       "      <td>0.025946</td>\n",
       "      <td>0.064866</td>\n",
       "    </tr>\n",
       "    <tr>\n",
       "      <th>INFS42037203ProjectPhase1_chatgpt</th>\n",
       "      <td>0.053955</td>\n",
       "      <td>0.000000</td>\n",
       "      <td>0.00000</td>\n",
       "      <td>0.000000</td>\n",
       "      <td>0.080933</td>\n",
       "      <td>0.026978</td>\n",
       "      <td>0.053955</td>\n",
       "      <td>0.000000</td>\n",
       "      <td>0.080933</td>\n",
       "      <td>0.080933</td>\n",
       "      <td>...</td>\n",
       "      <td>0.000000</td>\n",
       "      <td>0.000000</td>\n",
       "      <td>0.000000</td>\n",
       "      <td>0.000000</td>\n",
       "      <td>0.053955</td>\n",
       "      <td>0.000000</td>\n",
       "      <td>0.000000</td>\n",
       "      <td>0.053955</td>\n",
       "      <td>0.000000</td>\n",
       "      <td>0.000000</td>\n",
       "    </tr>\n",
       "  </tbody>\n",
       "</table>\n",
       "<p>2 rows × 561 columns</p>\n",
       "</div>"
      ],
      "text/plain": [
       "                                         00        10      100        12  \\\n",
       "INFS42037203ProjectPhase1          0.027692  0.051893  0.03892  0.025946   \n",
       "INFS42037203ProjectPhase1_chatgpt  0.053955  0.000000  0.00000  0.000000   \n",
       "\n",
       "                                         15      15th        16       1st  \\\n",
       "INFS42037203ProjectPhase1          0.046153  0.018461  0.027692  0.012973   \n",
       "INFS42037203ProjectPhase1_chatgpt  0.080933  0.026978  0.053955  0.000000   \n",
       "\n",
       "                                         20      2023  ...    voting  \\\n",
       "INFS42037203ProjectPhase1          0.046153  0.046153  ...  0.012973   \n",
       "INFS42037203ProjectPhase1_chatgpt  0.080933  0.080933  ...  0.000000   \n",
       "\n",
       "                                       want       way       web      week  \\\n",
       "INFS42037203ProjectPhase1          0.012973  0.025946  0.025946  0.036922   \n",
       "INFS42037203ProjectPhase1_chatgpt  0.000000  0.000000  0.000000  0.053955   \n",
       "\n",
       "                                       work     works     world   written  \\\n",
       "INFS42037203ProjectPhase1          0.025946  0.012973  0.027692  0.025946   \n",
       "INFS42037203ProjectPhase1_chatgpt  0.000000  0.000000  0.053955  0.000000   \n",
       "\n",
       "                                        www  \n",
       "INFS42037203ProjectPhase1          0.064866  \n",
       "INFS42037203ProjectPhase1_chatgpt  0.000000  \n",
       "\n",
       "[2 rows x 561 columns]"
      ]
     },
     "execution_count": 26,
     "metadata": {},
     "output_type": "execute_result"
    }
   ],
   "source": [
    "tfidf_df_sim"
   ]
  },
  {
   "cell_type": "markdown",
   "id": "169ce088",
   "metadata": {},
   "source": [
    "Calculate the cosine similarity of these two files."
   ]
  },
  {
   "cell_type": "code",
   "execution_count": 27,
   "id": "b89e2648",
   "metadata": {},
   "outputs": [],
   "source": [
    "cosine_similarity_sim = np.dot(tfidf_df_sim.iloc[0],tfidf_df_sim.iloc[1])"
   ]
  },
  {
   "cell_type": "code",
   "execution_count": 28,
   "id": "d1d12f45",
   "metadata": {},
   "outputs": [
    {
     "data": {
      "text/plain": [
       "0.727880340296424"
      ]
     },
     "execution_count": 28,
     "metadata": {},
     "output_type": "execute_result"
    }
   ],
   "source": [
    "cosine_similarity_sim"
   ]
  },
  {
   "cell_type": "markdown",
   "id": "798bcfa4",
   "metadata": {},
   "source": [
    "Since the cosine similarity is high, let's check some details of these two files."
   ]
  },
  {
   "cell_type": "markdown",
   "id": "6e76e8ca",
   "metadata": {},
   "source": [
    "Let’s reorganize the DataFrame so that the words are in rows rather than columns and have a look at the new DataFrame."
   ]
  },
  {
   "cell_type": "code",
   "execution_count": 29,
   "id": "7c12fe2a",
   "metadata": {},
   "outputs": [],
   "source": [
    "tfidf_df_sim = tfidf_df_sim.stack().reset_index()"
   ]
  },
  {
   "cell_type": "code",
   "execution_count": 30,
   "id": "cbb41bad",
   "metadata": {},
   "outputs": [
    {
     "data": {
      "text/html": [
       "<div>\n",
       "<style scoped>\n",
       "    .dataframe tbody tr th:only-of-type {\n",
       "        vertical-align: middle;\n",
       "    }\n",
       "\n",
       "    .dataframe tbody tr th {\n",
       "        vertical-align: top;\n",
       "    }\n",
       "\n",
       "    .dataframe thead th {\n",
       "        text-align: right;\n",
       "    }\n",
       "</style>\n",
       "<table border=\"1\" class=\"dataframe\">\n",
       "  <thead>\n",
       "    <tr style=\"text-align: right;\">\n",
       "      <th></th>\n",
       "      <th>level_0</th>\n",
       "      <th>level_1</th>\n",
       "      <th>0</th>\n",
       "    </tr>\n",
       "  </thead>\n",
       "  <tbody>\n",
       "    <tr>\n",
       "      <th>0</th>\n",
       "      <td>INFS42037203ProjectPhase1</td>\n",
       "      <td>00</td>\n",
       "      <td>0.027692</td>\n",
       "    </tr>\n",
       "    <tr>\n",
       "      <th>1</th>\n",
       "      <td>INFS42037203ProjectPhase1</td>\n",
       "      <td>10</td>\n",
       "      <td>0.051893</td>\n",
       "    </tr>\n",
       "    <tr>\n",
       "      <th>2</th>\n",
       "      <td>INFS42037203ProjectPhase1</td>\n",
       "      <td>100</td>\n",
       "      <td>0.038920</td>\n",
       "    </tr>\n",
       "    <tr>\n",
       "      <th>3</th>\n",
       "      <td>INFS42037203ProjectPhase1</td>\n",
       "      <td>12</td>\n",
       "      <td>0.025946</td>\n",
       "    </tr>\n",
       "    <tr>\n",
       "      <th>4</th>\n",
       "      <td>INFS42037203ProjectPhase1</td>\n",
       "      <td>15</td>\n",
       "      <td>0.046153</td>\n",
       "    </tr>\n",
       "    <tr>\n",
       "      <th>...</th>\n",
       "      <td>...</td>\n",
       "      <td>...</td>\n",
       "      <td>...</td>\n",
       "    </tr>\n",
       "    <tr>\n",
       "      <th>1117</th>\n",
       "      <td>INFS42037203ProjectPhase1_chatgpt</td>\n",
       "      <td>work</td>\n",
       "      <td>0.000000</td>\n",
       "    </tr>\n",
       "    <tr>\n",
       "      <th>1118</th>\n",
       "      <td>INFS42037203ProjectPhase1_chatgpt</td>\n",
       "      <td>works</td>\n",
       "      <td>0.000000</td>\n",
       "    </tr>\n",
       "    <tr>\n",
       "      <th>1119</th>\n",
       "      <td>INFS42037203ProjectPhase1_chatgpt</td>\n",
       "      <td>world</td>\n",
       "      <td>0.053955</td>\n",
       "    </tr>\n",
       "    <tr>\n",
       "      <th>1120</th>\n",
       "      <td>INFS42037203ProjectPhase1_chatgpt</td>\n",
       "      <td>written</td>\n",
       "      <td>0.000000</td>\n",
       "    </tr>\n",
       "    <tr>\n",
       "      <th>1121</th>\n",
       "      <td>INFS42037203ProjectPhase1_chatgpt</td>\n",
       "      <td>www</td>\n",
       "      <td>0.000000</td>\n",
       "    </tr>\n",
       "  </tbody>\n",
       "</table>\n",
       "<p>1122 rows × 3 columns</p>\n",
       "</div>"
      ],
      "text/plain": [
       "                                level_0  level_1         0\n",
       "0             INFS42037203ProjectPhase1       00  0.027692\n",
       "1             INFS42037203ProjectPhase1       10  0.051893\n",
       "2             INFS42037203ProjectPhase1      100  0.038920\n",
       "3             INFS42037203ProjectPhase1       12  0.025946\n",
       "4             INFS42037203ProjectPhase1       15  0.046153\n",
       "...                                 ...      ...       ...\n",
       "1117  INFS42037203ProjectPhase1_chatgpt     work  0.000000\n",
       "1118  INFS42037203ProjectPhase1_chatgpt    works  0.000000\n",
       "1119  INFS42037203ProjectPhase1_chatgpt    world  0.053955\n",
       "1120  INFS42037203ProjectPhase1_chatgpt  written  0.000000\n",
       "1121  INFS42037203ProjectPhase1_chatgpt      www  0.000000\n",
       "\n",
       "[1122 rows x 3 columns]"
      ]
     },
     "execution_count": 30,
     "metadata": {},
     "output_type": "execute_result"
    }
   ],
   "source": [
    "tfidf_df_sim"
   ]
  },
  {
   "cell_type": "markdown",
   "id": "c4e701eb",
   "metadata": {},
   "source": [
    "Rename the columns to some meaningful ones."
   ]
  },
  {
   "cell_type": "code",
   "execution_count": 31,
   "id": "28a7956f",
   "metadata": {},
   "outputs": [],
   "source": [
    "tfidf_df_sim = tfidf_df_sim.rename(columns={0:'tfidf', 'level_0': 'document','level_1': 'term'})"
   ]
  },
  {
   "cell_type": "markdown",
   "id": "6b2c708c",
   "metadata": {},
   "source": [
    "To find out the top 10 words with the highest TF-IDF for each file, we’re going to sort by document and tfidf score and then groupby document and take the first 10 values."
   ]
  },
  {
   "cell_type": "code",
   "execution_count": 32,
   "id": "011fc7be",
   "metadata": {},
   "outputs": [
    {
     "data": {
      "text/html": [
       "<div>\n",
       "<style scoped>\n",
       "    .dataframe tbody tr th:only-of-type {\n",
       "        vertical-align: middle;\n",
       "    }\n",
       "\n",
       "    .dataframe tbody tr th {\n",
       "        vertical-align: top;\n",
       "    }\n",
       "\n",
       "    .dataframe thead th {\n",
       "        text-align: right;\n",
       "    }\n",
       "</style>\n",
       "<table border=\"1\" class=\"dataframe\">\n",
       "  <thead>\n",
       "    <tr style=\"text-align: right;\">\n",
       "      <th></th>\n",
       "      <th>document</th>\n",
       "      <th>term</th>\n",
       "      <th>tfidf</th>\n",
       "    </tr>\n",
       "  </thead>\n",
       "  <tbody>\n",
       "    <tr>\n",
       "      <th>412</th>\n",
       "      <td>INFS42037203ProjectPhase1</td>\n",
       "      <td>proposal</td>\n",
       "      <td>0.313838</td>\n",
       "    </tr>\n",
       "    <tr>\n",
       "      <th>409</th>\n",
       "      <td>INFS42037203ProjectPhase1</td>\n",
       "      <td>project</td>\n",
       "      <td>0.295377</td>\n",
       "    </tr>\n",
       "    <tr>\n",
       "      <th>138</th>\n",
       "      <td>INFS42037203ProjectPhase1</td>\n",
       "      <td>data</td>\n",
       "      <td>0.286146</td>\n",
       "    </tr>\n",
       "    <tr>\n",
       "      <th>33</th>\n",
       "      <td>INFS42037203ProjectPhase1</td>\n",
       "      <td>ai</td>\n",
       "      <td>0.221533</td>\n",
       "    </tr>\n",
       "    <tr>\n",
       "      <th>390</th>\n",
       "      <td>INFS42037203ProjectPhase1</td>\n",
       "      <td>phase</td>\n",
       "      <td>0.221533</td>\n",
       "    </tr>\n",
       "    <tr>\n",
       "      <th>316</th>\n",
       "      <td>INFS42037203ProjectPhase1</td>\n",
       "      <td>marks</td>\n",
       "      <td>0.193841</td>\n",
       "    </tr>\n",
       "    <tr>\n",
       "      <th>540</th>\n",
       "      <td>INFS42037203ProjectPhase1</td>\n",
       "      <td>use</td>\n",
       "      <td>0.175380</td>\n",
       "    </tr>\n",
       "    <tr>\n",
       "      <th>514</th>\n",
       "      <td>INFS42037203ProjectPhase1</td>\n",
       "      <td>techniques</td>\n",
       "      <td>0.166150</td>\n",
       "    </tr>\n",
       "    <tr>\n",
       "      <th>498</th>\n",
       "      <td>INFS42037203ProjectPhase1</td>\n",
       "      <td>submission</td>\n",
       "      <td>0.147688</td>\n",
       "    </tr>\n",
       "    <tr>\n",
       "      <th>139</th>\n",
       "      <td>INFS42037203ProjectPhase1</td>\n",
       "      <td>dataset</td>\n",
       "      <td>0.110766</td>\n",
       "    </tr>\n",
       "    <tr>\n",
       "      <th>970</th>\n",
       "      <td>INFS42037203ProjectPhase1_chatgpt</td>\n",
       "      <td>project</td>\n",
       "      <td>0.458620</td>\n",
       "    </tr>\n",
       "    <tr>\n",
       "      <th>973</th>\n",
       "      <td>INFS42037203ProjectPhase1_chatgpt</td>\n",
       "      <td>proposal</td>\n",
       "      <td>0.350710</td>\n",
       "    </tr>\n",
       "    <tr>\n",
       "      <th>951</th>\n",
       "      <td>INFS42037203ProjectPhase1_chatgpt</td>\n",
       "      <td>phase</td>\n",
       "      <td>0.242799</td>\n",
       "    </tr>\n",
       "    <tr>\n",
       "      <th>1059</th>\n",
       "      <td>INFS42037203ProjectPhase1_chatgpt</td>\n",
       "      <td>submission</td>\n",
       "      <td>0.242799</td>\n",
       "    </tr>\n",
       "    <tr>\n",
       "      <th>699</th>\n",
       "      <td>INFS42037203ProjectPhase1_chatgpt</td>\n",
       "      <td>data</td>\n",
       "      <td>0.188844</td>\n",
       "    </tr>\n",
       "    <tr>\n",
       "      <th>666</th>\n",
       "      <td>INFS42037203ProjectPhase1_chatgpt</td>\n",
       "      <td>competition</td>\n",
       "      <td>0.161866</td>\n",
       "    </tr>\n",
       "    <tr>\n",
       "      <th>1075</th>\n",
       "      <td>INFS42037203ProjectPhase1_chatgpt</td>\n",
       "      <td>techniques</td>\n",
       "      <td>0.161866</td>\n",
       "    </tr>\n",
       "    <tr>\n",
       "      <th>616</th>\n",
       "      <td>INFS42037203ProjectPhase1_chatgpt</td>\n",
       "      <td>assignment</td>\n",
       "      <td>0.134888</td>\n",
       "    </tr>\n",
       "    <tr>\n",
       "      <th>877</th>\n",
       "      <td>INFS42037203ProjectPhase1_chatgpt</td>\n",
       "      <td>marks</td>\n",
       "      <td>0.134888</td>\n",
       "    </tr>\n",
       "    <tr>\n",
       "      <th>594</th>\n",
       "      <td>INFS42037203ProjectPhase1_chatgpt</td>\n",
       "      <td>ai</td>\n",
       "      <td>0.107911</td>\n",
       "    </tr>\n",
       "  </tbody>\n",
       "</table>\n",
       "</div>"
      ],
      "text/plain": [
       "                               document         term     tfidf\n",
       "412           INFS42037203ProjectPhase1     proposal  0.313838\n",
       "409           INFS42037203ProjectPhase1      project  0.295377\n",
       "138           INFS42037203ProjectPhase1         data  0.286146\n",
       "33            INFS42037203ProjectPhase1           ai  0.221533\n",
       "390           INFS42037203ProjectPhase1        phase  0.221533\n",
       "316           INFS42037203ProjectPhase1        marks  0.193841\n",
       "540           INFS42037203ProjectPhase1          use  0.175380\n",
       "514           INFS42037203ProjectPhase1   techniques  0.166150\n",
       "498           INFS42037203ProjectPhase1   submission  0.147688\n",
       "139           INFS42037203ProjectPhase1      dataset  0.110766\n",
       "970   INFS42037203ProjectPhase1_chatgpt      project  0.458620\n",
       "973   INFS42037203ProjectPhase1_chatgpt     proposal  0.350710\n",
       "951   INFS42037203ProjectPhase1_chatgpt        phase  0.242799\n",
       "1059  INFS42037203ProjectPhase1_chatgpt   submission  0.242799\n",
       "699   INFS42037203ProjectPhase1_chatgpt         data  0.188844\n",
       "666   INFS42037203ProjectPhase1_chatgpt  competition  0.161866\n",
       "1075  INFS42037203ProjectPhase1_chatgpt   techniques  0.161866\n",
       "616   INFS42037203ProjectPhase1_chatgpt   assignment  0.134888\n",
       "877   INFS42037203ProjectPhase1_chatgpt        marks  0.134888\n",
       "594   INFS42037203ProjectPhase1_chatgpt           ai  0.107911"
      ]
     },
     "execution_count": 32,
     "metadata": {},
     "output_type": "execute_result"
    }
   ],
   "source": [
    "tfidf_df_sim.sort_values(by=['document','tfidf'], ascending=[True,False]).groupby(['document']).head(10)"
   ]
  },
  {
   "cell_type": "markdown",
   "id": "59616494",
   "metadata": {},
   "source": [
    "The two files exhibit a significant overlap of terms with high TF-IDF values. To determine if plagiarism is present, a further check on their sentence-level similarity is required. However, sentence-level similarity is not covered in this course. If you're keen on exploring this topic further, you may consider conducting independent research."
   ]
  },
  {
   "cell_type": "markdown",
   "id": "740554ef",
   "metadata": {},
   "source": [
    "Author: *Kaki Zhou* 12/10/2023 "
   ]
  }
 ],
 "metadata": {
  "kernelspec": {
   "display_name": "Python 3 (ipykernel)",
   "language": "python",
   "name": "python3"
  },
  "language_info": {
   "codemirror_mode": {
    "name": "ipython",
    "version": 3
   },
   "file_extension": ".py",
   "mimetype": "text/x-python",
   "name": "python",
   "nbconvert_exporter": "python",
   "pygments_lexer": "ipython3",
   "version": "3.9.6"
  }
 },
 "nbformat": 4,
 "nbformat_minor": 5
}
